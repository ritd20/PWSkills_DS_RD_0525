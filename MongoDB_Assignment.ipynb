{
  "nbformat": 4,
  "nbformat_minor": 0,
  "metadata": {
    "colab": {
      "provenance": [],
      "authorship_tag": "ABX9TyOXB+E5zJTlA/o1GNb1aWfj"
    },
    "kernelspec": {
      "name": "python3",
      "display_name": "Python 3"
    },
    "language_info": {
      "name": "python"
    }
  },
  "cells": [
    {
      "cell_type": "markdown",
      "source": [
        "\n",
        "# **Theoretical Questions**\n",
        "\n"
      ],
      "metadata": {
        "id": "lTKGTRaHZIni"
      }
    },
    {
      "cell_type": "markdown",
      "source": [
        "**Q1: What are the key differences between SQL and NoSQL databases?**\n",
        "\n",
        "**Ans:**\n",
        "\n",
        "* **Structure:** SQL databases are relational, using structured tables with fixed schemas. NoSQL databases are non-relational, supporting flexible schemas (e.g., document, key-value, graph).\n",
        "* **Scalability:** SQL scales vertically (more powerful hardware), while NoSQL scales horizontally (adding more servers).\n",
        "* **Data Model:** SQL uses tables with rows/columns; NoSQL supports varied models like documents (MongoDB), key-value (Redis), etc.\n",
        "* **Query Language:** SQL uses standardized SQL queries; NoSQL uses database-specific APIs or query languages (e.g., MongoDB's query language).\n",
        "* **Use Case:** SQL suits structured data and complex joins; NoSQL suits unstructured/semi-structured data and high scalability.\n"
      ],
      "metadata": {
        "id": "A9U4epoEJlhO"
      }
    },
    {
      "cell_type": "markdown",
      "source": [
        "**Q2: What makes MongoDB a good choice for modern applications?**\n",
        "\n",
        "**Ans:**\n",
        "\n",
        "* **Flexible Schema:** Supports dynamic schemas, ideal for evolving data structures.\n",
        "* **Scalability:** Horizontal scaling via sharding and replication.\n",
        "Document Model: JSON-like documents align with modern app data formats.\n",
        "Performance: Supports high read/write throughput with indexes and in-memory processing.\n",
        "Ecosystem: MongoDB Atlas (cloud), drivers for multiple languages, and aggregation pipelines suit modern app needs.\n"
      ],
      "metadata": {
        "id": "krY2ht0kM92w"
      }
    },
    {
      "cell_type": "markdown",
      "source": [
        "**Q3: Explain the concept of collections in MongoDB.**\n",
        "\n",
        "**Ans:**\n",
        "\n",
        "* Collections are groups of MongoDB documents, analogous to tables in SQL but schema-less.\n",
        "* Documents within a collection are JSON-like (BSON) and can have varied structures.\n",
        "* Collections are stored in a database and support operations like querying, indexing, and aggregation.\n"
      ],
      "metadata": {
        "id": "-3-wasPLNA3I"
      }
    },
    {
      "cell_type": "markdown",
      "source": [
        "**Q4: How does MongoDB ensure high availability using replication?**\n",
        "\n",
        "**Ans:** MongoDB uses replica sets: a primary node handles writes, while secondary nodes replicate data for read access and failover.\n",
        "If the primary fails, an election process promotes a secondary to primary, ensuring continuous availability.\n",
        "Data is asynchronously replicated to secondaries, with configurable consistency levels.\n"
      ],
      "metadata": {
        "id": "ZjRWI_X-RCEC"
      }
    },
    {
      "cell_type": "markdown",
      "source": [
        "\n",
        "**Q5: What are the main benefits of MongoDB Atlas?**\n",
        "\n",
        "**Ans:** Cloud-Managed: Fully managed database-as-a-service, reducing administrative overhead.\n",
        "Scalability: Auto-scaling for workloads and global cluster distribution.\n",
        "Security: Built-in encryption, authentication, and role-based access control.\n",
        "Monitoring: Real-time performance monitoring and automated backups.\n",
        "Ease of Use: Simplified setup, upgrades, and cross-cloud deployment (AWS, Azure, GCP).\n"
      ],
      "metadata": {
        "id": "4s0FxQqkRbzX"
      }
    },
    {
      "cell_type": "markdown",
      "source": [
        "\n",
        "**Q6: What is the role of indexes in MongoDB, and how do they improve performance?**\n",
        "\n",
        "**Ans:** Indexes store a subset of data (e.g., field values) in a structure (B-tree by default) to speed up queries.\n",
        "They reduce the need for full collection scans, improving performance for searches, sorts, and filters.\n",
        "Types include single, compound, geospatial, and text indexes.\n",
        "Trade-off: Indexes increase write overhead and storage needs.\n"
      ],
      "metadata": {
        "id": "fMpIVE7rRvQC"
      }
    },
    {
      "cell_type": "markdown",
      "source": [
        "**Q7: Describe the stages of the MongoDB aggregation pipeline.**\n",
        "\n",
        "**Ans:** Aggregation pipeline processes documents through stages, each transforming the input:\n",
        "\n",
        "1. `$match`: Filters documents based on conditions.\n",
        "2. `$group`: Groups documents by a key and aggregates (e.g., sum, count).\n",
        "3. `$sort`: Sorts documents by specified fields.\n",
        "4. `$project`: Reshapes documents (select fields, computed fields).\n",
        "5. `$lookup`: Joins data from another collection.\n",
        "6. `$unwind`: Deconstructs arrays into separate documents.\n",
        "7. `$limit/$skip`: Controls output size or pagination.\n",
        "\n",
        "Stages are executed sequentially, passing results to the next."
      ],
      "metadata": {
        "id": "BY3ghUnqR8QI"
      }
    },
    {
      "cell_type": "markdown",
      "source": [
        "**Q8: What is sharding in MongoDB? How does it differ from replication?**\n",
        "\n",
        "**Ans:**\n",
        "\n",
        "* **Sharding**: Distributes data across multiple servers (shards) based on a shard key to scale horizontally. Each shard holds a subset of data.\n",
        "* **Replication**: Copies data across nodes in a replica set for redundancy and high availability.\n",
        "* **Difference**: Sharding improves scalability by partitioning data; replication ensures availability and fault tolerance by duplicating data.\n"
      ],
      "metadata": {
        "id": "fBbKEBBIShZu"
      }
    },
    {
      "cell_type": "markdown",
      "source": [
        "**Q9: What is PyMongo, and why is it used?**\n",
        "\n",
        "**Ans:** PyMongo is a Python driver for MongoDB, enabling Python applications to interact with MongoDB databases.\n",
        "Use: Provides APIs for CRUD operations, aggregation, indexing, and connection management, bridging Python and MongoDB seamlessly.\n"
      ],
      "metadata": {
        "id": "Gu5_0xd7S1NQ"
      }
    },
    {
      "cell_type": "markdown",
      "source": [
        "\n",
        "**Q10: What are the ACID properties in the context of MongoDB transactions?**\n",
        "\n",
        "* **Atomicity:** Ensures all operations in a transaction complete successfully or are rolled back.\n",
        "* **Consistency:** Transactions maintain database integrity (e.g., schema validation, constraints).\n",
        "* **Isolation:** Transactions are isolated, preventing interference until completion.\n",
        "* **Durability:** Committed transactions are permanently saved, even in case of system failure.\n",
        "\n",
        "MongoDB supports ACID transactions for replica sets and sharded clusters since version 4.0.\n"
      ],
      "metadata": {
        "id": "BNyGNoHhTgSa"
      }
    },
    {
      "cell_type": "markdown",
      "source": [
        "**Q11: What is the purpose of MongoDB’s `explain()` function?**\n",
        "\n",
        "**Ans:** The `explain()` function provides details on query execution plans, including:\n",
        "\n",
        "* Indexes used.\n",
        "* Number of documents scanned/returned.\n",
        "* Execution time and stages.\n",
        "\n",
        "\n",
        "Helps optimize queries by identifying inefficiencies (e.g., missing indexes).\n"
      ],
      "metadata": {
        "id": "5k09x86BTqtg"
      }
    },
    {
      "cell_type": "markdown",
      "source": [
        "**Q12: How does MongoDB handle schema validation?**\n",
        "\n",
        "**Ans:** MongoDB allows schema validation using JSON Schema in collection settings.\n",
        "\n",
        "Rules (e.g., required fields, data types) are defined via the validator option during collection creation or update.\n",
        "Invalid documents are rejected during insert/update, ensuring data consistency while retaining flexibility.\n"
      ],
      "metadata": {
        "id": "JWnMZFLpUKQB"
      }
    },
    {
      "cell_type": "markdown",
      "source": [
        "**Q13: What is the difference between a primary and a secondary node in a replica set?**\n",
        "\n",
        "**Ans:**\n",
        "\n",
        "* **Primary Node**: Handles all write operations and replicates data to secondaries. Clients can read from it.\n",
        "* **Secondary Node:** Replicates data from the primary for redundancy and supports read operations. Cannot accept writes unless elected as primary.\n"
      ],
      "metadata": {
        "id": "Ij35d2NqUdcR"
      }
    },
    {
      "cell_type": "markdown",
      "source": [
        "**Q14: What security mechanisms does MongoDB provide for data protection?**\n",
        "\n",
        "**Ans:**\n",
        "\n",
        "* **Authentication:** User credentials (SCRAM, LDAP, x.509).\n",
        "* **Authorization:** Role-based access control (RBAC) for granular permissions.\n",
        "* **Encryption:** TLS/SSL for data in transit; encryption at rest (via WiredTiger).\n",
        "* **Auditing**: Tracks database operations for compliance.\n",
        "Network Security: IP whitelisting, VPC peering in Atlas.\n"
      ],
      "metadata": {
        "id": "M89bdkl_Upy5"
      }
    },
    {
      "cell_type": "markdown",
      "source": [
        "**Q15: Explain the concept of embedded documents and when they should be used.**\n",
        "\n",
        "**Ans:**\n",
        "\n",
        "Embedded documents are sub-documents nested within a parent document (e.g., {user: {name: \"John\", age: 30}}).\n",
        "\n",
        "**Use When:** Data is closely related, frequently accessed together, or has a one-to-few relationship (e.g., user profiles with addresses).\n",
        "\n",
        "**Benefits:** Reduces joins, improves read performance.\n",
        "Avoid When: Data grows unbounded or needs independent querying."
      ],
      "metadata": {
        "id": "HZilOz7uVCdB"
      }
    },
    {
      "cell_type": "markdown",
      "source": [
        "**Q16: What is the purpose of MongoDB’s `$lookup` stage in aggregation?**\n",
        "\n",
        "* `$lookup` performs a left outer join, combining documents from one collection with matching documents from another based on specified fields.\n",
        "\n",
        "* Purpose: Enables relational-like queries in MongoDB (e.g., joining orders with customer data).\n",
        "\n",
        "* Syntax: `{ $lookup: { from: \"otherCollection\", localField: \"field1\", foreignField: \"field2\", as: \"outputArray\" }}`.\n",
        "\n"
      ],
      "metadata": {
        "id": "MK2fCnnqVZ-J"
      }
    },
    {
      "cell_type": "markdown",
      "source": [
        "**Q17: What are some common use cases for MongoDB?**\n",
        "\n",
        "**Ans:**\n",
        "\n",
        "1. Content management systems (flexible schemas for varied content).\n",
        "2. Real-time analytics (e.g., IoT, event logging).\n",
        "3. E-commerce (product catalogs, user profiles).\n",
        "4. Social media platforms (user-generated content, feeds).\n",
        "5. Big data applications (horizontal scaling for large datasets).\n"
      ],
      "metadata": {
        "id": "dI-FU-IjWDgR"
      }
    },
    {
      "cell_type": "markdown",
      "source": [
        "\n",
        "**Q18: What are the advantages of using MongoDB for horizontal scaling?**\n",
        "\n",
        "**Ans:**\n",
        "\n",
        "1. **Sharding:** Distributes data across servers, handling large datasets and high traffic.\n",
        "2. **Load Balancing:** Queries are distributed across shards, improving performance.\n",
        "3. **Flexibility:** Add/remove shards dynamically without downtime.\n",
        "Cost-Effective: Scales on commodity hardware or cloud infrastructure."
      ],
      "metadata": {
        "id": "8-n8kA75WeMq"
      }
    },
    {
      "cell_type": "markdown",
      "source": [
        "**Q19: How do MongoDB transactions differ from SQL transactions?**\n",
        "\n",
        "**Ans:**\n",
        "\n",
        "* **MongoDB:** ACID transactions supported since 4.0, but designed for document-level operations. Multi-document transactions are slower due to distributed nature.\n",
        "* **SQL**: Transactions are optimized for relational tables with joins, often faster for complex operations.\n",
        "* **Schema:** MongoDB’s flexible schema impacts transaction design; SQL’s fixed schema ensures strict consistency.\n",
        "* **Use Case:** MongoDB transactions suit document-centric apps; SQL suits relational data with heavy joins.\n"
      ],
      "metadata": {
        "id": "rQlBuDYxXg-J"
      }
    },
    {
      "cell_type": "markdown",
      "source": [
        "**Q20: What are the main differences between capped collections and regular collections?**\n",
        "\n",
        "**Ans:**\n",
        "\n",
        "**Capped Collections:**\n",
        "\n",
        "1. Fixed size, automatically overwrite old data (FIFO) when full.\n",
        "2. No indexes by default (except _id).\n",
        "3. Use case: Logging, caching.\n",
        "\n",
        "\n",
        "**Regular Collections:**\n",
        "\n",
        "1. Unlimited size, no automatic data removal.\n",
        "2. Support multiple indexes.\n",
        "3. Use case: General-purpose data storage.\n",
        "\n"
      ],
      "metadata": {
        "id": "F71HLCeEXkKg"
      }
    },
    {
      "cell_type": "markdown",
      "source": [
        "**Q21: What is the purpose of the $match stage in MongoDB’s aggregation pipeline?**\n",
        "\n",
        "**Ans:** Filters documents based on conditions (like WHERE in SQL).\n",
        "Reduces the dataset early in the pipeline, improving performance.\n",
        "Example: `{ $match: { region: \"West\" }}` selects documents where region is \"West\".\n",
        "\n",
        "**Q22: How can you secure access to a MongoDB database?**\n",
        "\n",
        "**Ans:**\n",
        "\n",
        "* Enable authentication (e.g., SCRAM).\n",
        "* Use role-based access control (RBAC) for least privilege.\n",
        "* Encrypt data in transit (TLS) and at rest.\n",
        "* Restrict network access via IP whitelisting or VPC.\n",
        "* Regularly audit and monitor database activity.\n"
      ],
      "metadata": {
        "id": "TSaso9FAX6ux"
      }
    },
    {
      "cell_type": "markdown",
      "source": [
        "**Q23: What is MongoDB’s WiredTiger storage engine, and why is it important?**\n",
        "\n",
        "**Ans:**\n",
        "\n",
        "* **WiredTiger:** MongoDB’s default storage engine since 3.2, optimized for performance and scalability.\n",
        "* **Features:** Supports compression, document-level concurrency, and crash recovery.\n",
        "* **Importance:** Improves write performance, reduces storage costs, and ensures data durability, making it suitable for modern workloads."
      ],
      "metadata": {
        "id": "KQ3kSyUsYk5J"
      }
    },
    {
      "cell_type": "markdown",
      "source": [
        "# **Practical Questions**"
      ],
      "metadata": {
        "id": "xX2hualyZS1B"
      }
    },
    {
      "cell_type": "code",
      "source": [
        "!pip install pymongo"
      ],
      "metadata": {
        "colab": {
          "base_uri": "https://localhost:8080/"
        },
        "id": "pkdUf0uQa1PE",
        "outputId": "9c790308-fff8-4302-d9e1-7c47ca79b392"
      },
      "execution_count": 3,
      "outputs": [
        {
          "output_type": "stream",
          "name": "stdout",
          "text": [
            "Requirement already satisfied: pymongo in /usr/local/lib/python3.11/dist-packages (4.14.0)\n",
            "Requirement already satisfied: dnspython<3.0.0,>=1.16.0 in /usr/local/lib/python3.11/dist-packages (from pymongo) (2.7.0)\n"
          ]
        }
      ]
    },
    {
      "cell_type": "code",
      "source": [
        "# Install required packages\n",
        "!pip install pymongo pandas -q\n",
        "\n",
        "import pandas as pd\n",
        "from pymongo import MongoClient\n",
        "import numpy as np\n",
        "\n",
        "print(\"📁 Loading Full Superstore Dataset...\")\n",
        "try:\n",
        "    # Read the uploaded CSV file\n",
        "    df = pd.read_csv('superstore.csv', encoding='cp1252')\n",
        "    print(f\"✅ Dataset loaded successfully!\")\n",
        "    print(f\"📊 Total records: {len(df):,}\")\n",
        "    print(f\"📋 Columns: {list(df.columns)}\")\n",
        "    print()\n",
        "except FileNotFoundError:\n",
        "    print(\"❌ Please upload superstore.csv to Colab first!\")\n",
        "    print(\"Use the file upload button on the left sidebar\")\n",
        "    exit()\n",
        "\n",
        "print(\"🔗 MongoDB Operations with Full Dataset:\")\n",
        "print(\"=\"*60)"
      ],
      "metadata": {
        "colab": {
          "base_uri": "https://localhost:8080/"
        },
        "id": "YIAbZeDua3LY",
        "outputId": "f5f65969-850c-4bbc-b507-a0d46fb08083"
      },
      "execution_count": 17,
      "outputs": [
        {
          "output_type": "stream",
          "name": "stdout",
          "text": [
            "📁 Loading Full Superstore Dataset...\n",
            "✅ Dataset loaded successfully!\n",
            "📊 Total records: 9,994\n",
            "📋 Columns: ['Row ID', 'Order ID', 'Order Date', 'Ship Date', 'Ship Mode', 'Customer ID', 'Customer Name', 'Segment', 'Country', 'City', 'State', 'Postal Code', 'Region', 'Product ID', 'Category', 'Sub-Category', 'Product Name', 'Sales', 'Quantity', 'Discount', 'Profit']\n",
            "\n",
            "🔗 MongoDB Operations with Full Dataset:\n",
            "============================================================\n"
          ]
        }
      ]
    },
    {
      "cell_type": "code",
      "source": [
        "# Question 1: Data loaded (already done above)\n",
        "print(\"✅ Q1: Full Superstore data loaded (9994 records)\")"
      ],
      "metadata": {
        "colab": {
          "base_uri": "https://localhost:8080/"
        },
        "id": "A0yjLSi0hp2R",
        "outputId": "60e6b68f-bc12-4319-ed7e-d138de0c8975"
      },
      "execution_count": 18,
      "outputs": [
        {
          "output_type": "stream",
          "name": "stdout",
          "text": [
            "✅ Q1: Full Superstore data loaded (9994 records)\n"
          ]
        }
      ]
    },
    {
      "cell_type": "code",
      "source": [
        "# Question 2: Retrieve all documents (show first 10)\n",
        "print(\"\\n📋 Q2: All Documents (showing first 10):\")\n",
        "for i, row in df.head(10).iterrows():\n",
        "    print(f\"  {row['Order ID']}: {row['Customer Name']} - ${row['Sales']:.2f}\")"
      ],
      "metadata": {
        "colab": {
          "base_uri": "https://localhost:8080/"
        },
        "id": "-Rmn4QXPhtMX",
        "outputId": "4b166460-ccb6-43bb-dbc6-96fb8ddac12b"
      },
      "execution_count": 19,
      "outputs": [
        {
          "output_type": "stream",
          "name": "stdout",
          "text": [
            "\n",
            "📋 Q2: All Documents (showing first 10):\n",
            "  CA-2016-152156: Claire Gute - $261.96\n",
            "  CA-2016-152156: Claire Gute - $731.94\n",
            "  CA-2016-138688: Darrin Van Huff - $14.62\n",
            "  US-2015-108966: Sean O'Donnell - $957.58\n",
            "  US-2015-108966: Sean O'Donnell - $22.37\n",
            "  CA-2014-115812: Brosina Hoffman - $48.86\n",
            "  CA-2014-115812: Brosina Hoffman - $7.28\n",
            "  CA-2014-115812: Brosina Hoffman - $907.15\n",
            "  CA-2014-115812: Brosina Hoffman - $18.50\n",
            "  CA-2014-115812: Brosina Hoffman - $114.90\n"
          ]
        }
      ]
    },
    {
      "cell_type": "code",
      "source": [
        "# Question 3: Count total documents\n",
        "total_docs = len(df)\n",
        "print(f\"\\n📊 Q3: Total Documents: {total_docs:,}\")"
      ],
      "metadata": {
        "colab": {
          "base_uri": "https://localhost:8080/"
        },
        "id": "SUsbxl57h2SB",
        "outputId": "61f801db-4548-4213-8d4e-60bcc2f187a7"
      },
      "execution_count": 20,
      "outputs": [
        {
          "output_type": "stream",
          "name": "stdout",
          "text": [
            "\n",
            "📊 Q3: Total Documents: 9,994\n"
          ]
        }
      ]
    },
    {
      "cell_type": "code",
      "source": [
        "# Question 4: West region orders\n",
        "west_orders = df[df['Region'] == 'West']\n",
        "print(f\"\\n🌎 Q4: West Region Orders: {len(west_orders):,}\")\n",
        "print(\"Sample West orders:\")\n",
        "for _, row in west_orders.head(5).iterrows():\n",
        "    print(f\"  {row['Order ID']}: {row['Customer Name']} - ${row['Sales']:.2f}\")"
      ],
      "metadata": {
        "colab": {
          "base_uri": "https://localhost:8080/"
        },
        "id": "-2x2GvO2h8Av",
        "outputId": "08e21c7f-7314-4d44-9a73-eb1444bc5ed7"
      },
      "execution_count": 21,
      "outputs": [
        {
          "output_type": "stream",
          "name": "stdout",
          "text": [
            "\n",
            "🌎 Q4: West Region Orders: 3,203\n",
            "Sample West orders:\n",
            "  CA-2016-138688: Darrin Van Huff - $14.62\n",
            "  CA-2014-115812: Brosina Hoffman - $48.86\n",
            "  CA-2014-115812: Brosina Hoffman - $7.28\n",
            "  CA-2014-115812: Brosina Hoffman - $907.15\n",
            "  CA-2014-115812: Brosina Hoffman - $18.50\n"
          ]
        }
      ]
    },
    {
      "cell_type": "code",
      "source": [
        "# Question 5: Orders with Sales > 500\n",
        "high_sales = df[df['Sales'] > 500]\n",
        "print(f\"\\n💰 Q5: High Sales (>$500): {len(high_sales):,} orders\")\n",
        "print(\"Top 5 high sales orders:\")\n",
        "for _, row in high_sales.nlargest(5, 'Sales').iterrows():\n",
        "    print(f\"  {row['Order ID']}: ${row['Sales']:.2f} - {row['Product Name'][:50]}...\")"
      ],
      "metadata": {
        "colab": {
          "base_uri": "https://localhost:8080/"
        },
        "id": "utiNQb61iBWe",
        "outputId": "5aa75288-a7b2-4fd6-8f31-20c0995313df"
      },
      "execution_count": 22,
      "outputs": [
        {
          "output_type": "stream",
          "name": "stdout",
          "text": [
            "\n",
            "💰 Q5: High Sales (>$500): 1,162 orders\n",
            "Top 5 high sales orders:\n",
            "  CA-2014-145317: $22638.48 - Cisco TelePresence System EX90 Videoconferencing U...\n",
            "  CA-2016-118689: $17499.95 - Canon imageCLASS 2200 Advanced Copier...\n",
            "  CA-2017-140151: $13999.96 - Canon imageCLASS 2200 Advanced Copier...\n",
            "  CA-2017-127180: $11199.97 - Canon imageCLASS 2200 Advanced Copier...\n",
            "  CA-2017-166709: $10499.97 - Canon imageCLASS 2200 Advanced Copier...\n"
          ]
        }
      ]
    },
    {
      "cell_type": "code",
      "source": [
        "# Question 6: Top 3 orders by profit\n",
        "top_profit = df.nlargest(3, 'Profit')\n",
        "print(f\"\\n🏆 Q6: Top 3 Orders by Profit:\")\n",
        "for i, (_, row) in enumerate(top_profit.iterrows(), 1):\n",
        "    print(f\"  {i}. {row['Order ID']}: ${row['Profit']:.2f}\")\n",
        "    print(f\"     Product: {row['Product Name'][:40]}...\")\n",
        "    print(f\"     Customer: {row['Customer Name']}\")"
      ],
      "metadata": {
        "colab": {
          "base_uri": "https://localhost:8080/"
        },
        "id": "71ui-gckiEe2",
        "outputId": "004a877f-1c6b-4466-b00d-6b791d4d695b"
      },
      "execution_count": 23,
      "outputs": [
        {
          "output_type": "stream",
          "name": "stdout",
          "text": [
            "\n",
            "🏆 Q6: Top 3 Orders by Profit:\n",
            "  1. CA-2016-118689: $8399.98\n",
            "     Product: Canon imageCLASS 2200 Advanced Copier...\n",
            "     Customer: Tamara Chand\n",
            "  2. CA-2017-140151: $6719.98\n",
            "     Product: Canon imageCLASS 2200 Advanced Copier...\n",
            "     Customer: Raymond Buch\n",
            "  3. CA-2017-166709: $5039.99\n",
            "     Product: Canon imageCLASS 2200 Advanced Copier...\n",
            "     Customer: Hunter Lopez\n"
          ]
        }
      ]
    },
    {
      "cell_type": "code",
      "source": [
        "# Question 7: Update Ship Mode (First Class → Premium Class)\n",
        "first_class_count = len(df[df['Ship Mode'] == 'First Class'])\n",
        "df.loc[df['Ship Mode'] == 'First Class', 'Ship Mode'] = 'Premium Class'\n",
        "premium_count = len(df[df['Ship Mode'] == 'Premium Class'])\n",
        "print(f\"\\n🔄 Q7: Updated {first_class_count:,} records from 'First Class' to 'Premium Class'\")\n",
        "\n",
        "# Question 8: Delete orders with Sales < 50\n",
        "before_delete = len(df)\n",
        "low_sales_count = len(df[df['Sales'] < 50])\n",
        "df = df[df['Sales'] >= 50]  # Keep only sales >= 50\n",
        "after_delete = len(df)\n",
        "print(f\"\\n🗑️ Q8: Deleted {low_sales_count:,} orders with sales < $50\")\n",
        "print(f\"     Remaining records: {after_delete:,}\")"
      ],
      "metadata": {
        "colab": {
          "base_uri": "https://localhost:8080/"
        },
        "id": "Nt9DTueGiKTu",
        "outputId": "14559ecc-b25f-4b09-e226-e32fceeea3c5"
      },
      "execution_count": 24,
      "outputs": [
        {
          "output_type": "stream",
          "name": "stdout",
          "text": [
            "\n",
            "🔄 Q7: Updated 1,538 records from 'First Class' to 'Premium Class'\n",
            "\n",
            "🗑️ Q8: Deleted 4,849 orders with sales < $50\n",
            "     Remaining records: 5,145\n"
          ]
        }
      ]
    },
    {
      "cell_type": "code",
      "source": [
        "# Question 9: Sales by Region (Aggregation)\n",
        "sales_by_region = df.groupby('Region').agg({\n",
        "    'Sales': ['sum', 'count', 'mean'],\n",
        "    'Profit': 'sum'\n",
        "}).round(2)\n",
        "sales_by_region.columns = ['Total_Sales', 'Order_Count', 'Avg_Sales', 'Total_Profit']\n",
        "\n",
        "print(f\"\\n📈 Q9: Sales by Region:\")\n",
        "print(\"-\" * 60)\n",
        "for region in sales_by_region.index:\n",
        "    stats = sales_by_region.loc[region]\n",
        "    print(f\"  {region:10} | ${stats['Total_Sales']:>12,.2f} | {stats['Order_Count']:>6,} orders | Avg: ${stats['Avg_Sales']:>8.2f}\")"
      ],
      "metadata": {
        "colab": {
          "base_uri": "https://localhost:8080/"
        },
        "id": "30Q7SjgdiNc-",
        "outputId": "05b99d0d-0bf8-4ce2-bda5-308f6ebe7fc8"
      },
      "execution_count": 25,
      "outputs": [
        {
          "output_type": "stream",
          "name": "stdout",
          "text": [
            "\n",
            "📈 Q9: Sales by Region:\n",
            "------------------------------------------------------------\n",
            "  Central    | $  479,611.85 | 1,125.0 orders | Avg: $  426.32\n",
            "  East       | $  651,137.70 | 1,472.0 orders | Avg: $  442.35\n",
            "  South      | $  376,023.31 |  828.0 orders | Avg: $  454.13\n",
            "  West       | $  694,686.62 | 1,720.0 orders | Avg: $  403.89\n"
          ]
        }
      ]
    },
    {
      "cell_type": "code",
      "source": [
        "# Question 10: Distinct Ship Modes\n",
        "distinct_modes = df['Ship Mode'].unique()\n",
        "mode_counts = df['Ship Mode'].value_counts()\n",
        "print(f\"\\n🚚 Q10: Distinct Ship Modes ({len(distinct_modes)}):\")\n",
        "for mode in distinct_modes:\n",
        "    count = mode_counts[mode]\n",
        "    print(f\"  {mode}: {count:,} orders\")"
      ],
      "metadata": {
        "colab": {
          "base_uri": "https://localhost:8080/"
        },
        "id": "ha3wZ-gGiS02",
        "outputId": "29a10e7d-8f28-4e7c-b9fd-1b59acaab82b"
      },
      "execution_count": 26,
      "outputs": [
        {
          "output_type": "stream",
          "name": "stdout",
          "text": [
            "\n",
            "🚚 Q10: Distinct Ship Modes (4):\n",
            "  Second Class: 1,011 orders\n",
            "  Standard Class: 3,055 orders\n",
            "  Premium Class: 799 orders\n",
            "  Same Day: 280 orders\n"
          ]
        }
      ]
    },
    {
      "cell_type": "code",
      "source": [
        "# Question 11: Orders by Category\n",
        "category_stats = df.groupby('Category').agg({\n",
        "    'Sales': ['count', 'sum'],\n",
        "    'Profit': 'sum'\n",
        "}).round(2)\n",
        "category_stats.columns = ['Order_Count', 'Total_Sales', 'Total_Profit']\n",
        "\n",
        "print(f\"\\n📦 Q11: Orders by Category:\")\n",
        "print(\"-\" * 50)\n",
        "for category in category_stats.index:\n",
        "    stats = category_stats.loc[category]\n",
        "    print(f\"  {category:15} | {stats['Order_Count']:>6,} orders | ${stats['Total_Sales']:>12,.2f}\")"
      ],
      "metadata": {
        "colab": {
          "base_uri": "https://localhost:8080/"
        },
        "id": "nlr0pXS0iWO3",
        "outputId": "60b5a162-b4e0-449c-855f-0701f4ea502c"
      },
      "execution_count": 27,
      "outputs": [
        {
          "output_type": "stream",
          "name": "stdout",
          "text": [
            "\n",
            "📦 Q11: Orders by Category:\n",
            "--------------------------------------------------\n",
            "  Furniture       | 1,573.0 orders | $  729,315.06\n",
            "  Office Supplies | 2,076.0 orders | $  646,074.79\n",
            "  Technology      | 1,496.0 orders | $  826,069.64\n"
          ]
        }
      ]
    },
    {
      "cell_type": "code",
      "source": [],
      "metadata": {
        "id": "xbsnrelPiY6G"
      },
      "execution_count": null,
      "outputs": []
    }
  ]
}