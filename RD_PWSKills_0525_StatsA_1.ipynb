{
  "nbformat": 4,
  "nbformat_minor": 0,
  "metadata": {
    "colab": {
      "provenance": []
    },
    "kernelspec": {
      "name": "python3",
      "display_name": "Python 3"
    },
    "language_info": {
      "name": "python"
    }
  },
  "cells": [
    {
      "cell_type": "markdown",
      "source": [
        "Submission by Ritam Dutta\n",
        "# **Statistics Advanced 1 Assignment Solutions**\n",
        "**Assignment Code: DA-AG-006**"
      ],
      "metadata": {
        "id": "YW9_j7l0do21"
      }
    },
    {
      "cell_type": "markdown",
      "source": [
        "**Question 1: What is a random variable in probability theory?**\n",
        "\n",
        "**Answer:** A random variable is a function that assigns numerical values to the outcomes of a random experiment or event. It provides a way to quantify uncertain outcomes by mapping each possible result of an experiment to a real number. Random variables bridge the gap between abstract probability concepts and measurable quantities, allowing us to perform mathematical operations and statistical analysis on uncertain events. For example, when rolling a die, the random variable X could represent the number showing on the top face, taking values {1, 2, 3, 4, 5, 6}."
      ],
      "metadata": {
        "id": "Fwi748CHnOgA"
      }
    },
    {
      "cell_type": "markdown",
      "source": [
        "**Question 2: What are the types of random variables?**\n",
        "\n",
        "**Answer:** There are two main types of random variables:\n",
        "Discrete Random Variables: These take on a countable number of distinct values, often integers. Examples include the number of heads in coin flips, the number of customers arriving at a store, or the score on a dice roll. The possible values can be listed (finite or countably infinite).\n",
        "Continuous Random Variables: These can take on any value within a given range or interval. Examples include height, weight, temperature, or time. These variables are associated with measurements rather than counts and have an uncountably infinite number of possible values within any interval.\n",
        "\n"
      ],
      "metadata": {
        "id": "AV4kqrMRnU99"
      }
    },
    {
      "cell_type": "markdown",
      "source": [
        "**Question 3: Explain the difference between discrete and continuous distributions.**\n",
        "\n",
        "**Answer:**\n",
        "Discrete Distributions: Used for discrete random variables. They are characterized by a probability mass function (PMF) that assigns probabilities to specific values. The sum of all probabilities equals 1. Examples include binomial, Poisson, and geometric distributions. Probabilities are calculated for exact values (P(X = k)).\n",
        "Continuous Distributions: Used for continuous random variables. They are characterized by a probability density function (PDF) where the area under the curve represents probability. The probability of any single exact value is zero; instead, we calculate probabilities over intervals (P(a ≤ X ≤ b)). Examples include normal, exponential, and uniform distributions.\n"
      ],
      "metadata": {
        "id": "FGcJFmb5naWO"
      }
    },
    {
      "cell_type": "markdown",
      "source": [
        "**Question 4: What is a binomial distribution, and how is it used in probability?**\n",
        "\n",
        "**Answer:** A binomial distribution models the number of successes in a fixed number of independent trials, where each trial has the same probability of success. It has two parameters: n (number of trials) and p (probability of success in each trial). The distribution is used when we have a \"yes/no\" or \"success/failure\" scenario repeated multiple times. Common applications include quality control (defective items in a batch), medical trials (treatment success rates), marketing (customer response rates), and polling (voter preferences). The probability formula is P(X = k) = C(n,k) × p^k × (1-p)^(n-k).\n"
      ],
      "metadata": {
        "id": "7ndSyEz2ngum"
      }
    },
    {
      "cell_type": "markdown",
      "source": [
        "**Question 5: What is the standard normal distribution, and why is it important?**\n",
        "\n",
        "**Answer:** The standard normal distribution is a special case of the normal distribution with a mean (μ) of 0 and a standard deviation (σ) of 1. It's denoted as N(0,1) and is also called the Z-distribution. Its importance lies in its role as a reference distribution for standardization. Any normal distribution can be converted to the standard normal distribution using Z-scores: Z = (X - μ)/σ. This standardization allows for easy probability calculations, comparison between different normal distributions, and serves as the foundation for many statistical tests and confidence intervals. It's central to hypothesis testing and quality control processes.\n"
      ],
      "metadata": {
        "id": "wUhqPMginons"
      }
    },
    {
      "cell_type": "markdown",
      "source": [
        "**Question 6: What is the Central Limit Theorem (CLT), and why is it critical in statistics?**\n",
        "\n",
        "**Answer:** The Central Limit Theorem states that the sampling distribution of the sample mean approaches a normal distribution as the sample size increases, regardless of the shape of the original population distribution. For sufficiently large sample sizes (typically n ≥ 30), the sample means will be approximately normally distributed with mean equal to the population mean and standard deviation equal to σ/√n (standard error). CLT is critical because it allows statisticians to make inferences about populations using normal distribution properties even when the population distribution is unknown or non-normal. It's the foundation for confidence intervals, hypothesis testing, and many other statistical procedures.\n"
      ],
      "metadata": {
        "id": "3j2dhQ1KnvT-"
      }
    },
    {
      "cell_type": "markdown",
      "source": [
        "**Question 7: What is the significance of confidence intervals in statistical analysis?**\n",
        "\n",
        "**Answer:** Confidence intervals provide a range of plausible values for an unknown population parameter, along with a confidence level that indicates how certain we can be that the interval contains the true parameter value. A 95% confidence interval means that if we repeated the sampling process many times, approximately 95% of the constructed intervals would contain the true population parameter. Confidence intervals are significant because they quantify uncertainty in estimates, provide more information than point estimates alone, help in decision-making by showing the precision of estimates, and are essential for hypothesis testing and statistical inference. They bridge the gap between sample statistics and population parameters."
      ],
      "metadata": {
        "id": "RGQ0ANn1n1jm"
      }
    },
    {
      "cell_type": "markdown",
      "source": [
        "**Question 8: What is the concept of expected value in a probability distribution?**\n",
        "\n",
        "**Answer:** Expected value (also called the mean or expectation) is the average value we would expect to observe if we repeated a random experiment many times. For a discrete random variable, it's calculated as E(X) = Σ[x × P(X = x)], and for a continuous random variable, it's E(X) = ∫x × f(x)dx. The expected value represents the long-run average outcome and is a measure of central tendency for a probability distribution. It's crucial in decision-making under uncertainty, risk assessment, game theory, and financial analysis. The expected value doesn't have to be a possible outcome of the experiment itself; it represents the theoretical mean of the distribution."
      ],
      "metadata": {
        "id": "Jl2GBJrYn6s9"
      }
    },
    {
      "cell_type": "markdown",
      "source": [
        "**Question 9: Normal Distribution Analysis**\n",
        "\n",
        "**Answer:**"
      ],
      "metadata": {
        "id": "-La-p5KnoCKu"
      }
    },
    {
      "cell_type": "code",
      "execution_count": 2,
      "metadata": {
        "colab": {
          "base_uri": "https://localhost:8080/",
          "height": 507
        },
        "id": "KU2kIGCQWwSF",
        "outputId": "6910e934-8801-4c91-da5a-cf697233fd88"
      },
      "outputs": [
        {
          "output_type": "stream",
          "name": "stdout",
          "text": [
            "Mean: 50.00154168427741\n",
            "Standard Deviation: 4.904070004565933\n"
          ]
        },
        {
          "output_type": "display_data",
          "data": {
            "text/plain": [
              "<Figure size 640x480 with 1 Axes>"
            ],
            "image/png": "[encoded data removed]"
          },
          "metadata": {}
        }
      ],
      "source": [
        "import numpy as np\n",
        "import matplotlib.pyplot as plt\n",
        "\n",
        "# Generate 1000 random numbers\n",
        "data = np.random.normal(loc=50, scale=5, size=1000)\n",
        "\n",
        "# Calculate mean and standard deviation\n",
        "mean = np.mean(data)\n",
        "std_dev = np.std(data)\n",
        "\n",
        "print(f\"Mean: {mean}\")\n",
        "print(f\"Standard Deviation: {std_dev}\")\n",
        "\n",
        "# Plot histogram\n",
        "plt.hist(data, bins=30, edgecolor='black', alpha=0.7)\n",
        "plt.title('Normal Distribution Histogram')\n",
        "plt.xlabel('Value')\n",
        "plt.ylabel('Frequency')\n",
        "plt.show()\n"
      ]
    },
    {
      "cell_type": "markdown",
      "source": [
        "**Question 10: Central Limit Theorem and Confidence Intervals**\n",
        "\n",
        "**Answer:**\n",
        "Explanation of applying CLT to estimate average sales with 95% confidence interval:\n",
        "The Central Limit Theorem allows us to estimate the population mean (true average daily sales) using our sample data. Even though we only have 20 days of sales data, CLT tells us that the sampling distribution of the sample mean will be approximately normal. We can construct a 95% confidence interval using the sample mean, sample standard deviation, and the t-distribution (since we don't know the population standard deviation and have a small sample size)."
      ],
      "metadata": {
        "id": "O8opG9-WokA-"
      }
    },
    {
      "cell_type": "code",
      "source": [
        "import numpy as np\n",
        "from scipy import stats\n",
        "\n",
        "daily_sales = [220, 245, 210, 265, 230, 250, 260, 275, 240, 255,\n",
        "               235, 260, 245, 250, 225, 270, 265, 255, 250, 260]\n",
        "\n",
        "n = len(daily_sales)\n",
        "sample_mean = np.mean(daily_sales)\n",
        "sample_std = np.std(daily_sales, ddof=1)\n",
        "standard_error = sample_std / np.sqrt(n)\n",
        "\n",
        "# 95% Confidence Interval using t-distribution\n",
        "confidence_level = 0.95\n",
        "degrees_freedom = n - 1\n",
        "t_critical = stats.t.ppf(0.975, degrees_freedom)  # Two-tailed test\n",
        "margin_error = t_critical * standard_error\n",
        "\n",
        "# Calculate confidence interval\n",
        "ci_lower = sample_mean - margin_error\n",
        "ci_upper = sample_mean + margin_error\n",
        "\n",
        "# Results\n",
        "print(\"Sales Data Analysis\")\n",
        "print(f\"Sample size: {n}\")\n",
        "print(f\"Sample mean: ${sample_mean:.2f}\")\n",
        "print(f\"Sample std dev: ${sample_std:.2f}\")\n",
        "print(f\"Standard error: ${standard_error:.2f}\")\n",
        "print(f\"t-critical (df={degrees_freedom}): {t_critical:.4f}\")\n",
        "print(f\"Margin of error: ${margin_error:.2f}\")\n",
        "print(f\"95% Confidence Interval: [${ci_lower:.2f}, ${ci_upper:.2f}]\")\n",
        "print(f\"\\nInterpretation: We are 95% confident that the true average daily sales is between ${ci_lower:.2f} and ${ci_upper:.2f}\")"
      ],
      "metadata": {
        "colab": {
          "base_uri": "https://localhost:8080/"
        },
        "id": "xbgaHh6-Zo_f",
        "outputId": "ba41a4e3-b344-4308-e17b-3defea07839e"
      },
      "execution_count": 1,
      "outputs": [
        {
          "output_type": "stream",
          "name": "stdout",
          "text": [
            "Sales Data Analysis\n",
            "Sample size: 20\n",
            "Sample mean: $248.25\n",
            "Sample std dev: $17.27\n",
            "Standard error: $3.86\n",
            "t-critical (df=19): 2.0930\n",
            "Margin of error: $8.08\n",
            "95% Confidence Interval: [$240.17, $256.33]\n",
            "\n",
            "Interpretation: We are 95% confident that the true average daily sales is between $240.17 and $256.33\n"
          ]
        }
      ]
    }
  ]
}