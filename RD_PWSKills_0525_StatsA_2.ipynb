{
  "nbformat": 4,
  "nbformat_minor": 0,
  "metadata": {
    "colab": {
      "provenance": []
    },
    "kernelspec": {
      "name": "python3",
      "display_name": "Python 3"
    },
    "language_info": {
      "name": "python"
    }
  },
  "cells": [
    {
      "cell_type": "markdown",
      "source": [
        "# Statistics Advanced - 2 Assignment\n",
        "**Assignment Code: DA-AG-007**\n",
        "\n",
        "---\n",
        "\n",
        "## Question 1: What is hypothesis testing in statistics?\n",
        "\n",
        "## **Answer:**\n",
        "\n",
        "Hypothesis testing is a fundamental statistical method used to make inferences about population parameters based on sample data. It is a systematic procedure that helps researchers determine whether there is sufficient evidence to support or reject a claim about a population.\n",
        "\n",
        "### Key Components of Hypothesis Testing:\n",
        "\n",
        "**1. Purpose:**\n",
        "Hypothesis testing allows us to test assumptions or claims about population characteristics (like means, proportions, or variances) using sample data.\n",
        "\n",
        "**2. Process:**\n",
        "It involves formulating two competing hypotheses, collecting sample data, calculating test statistics, and making decisions based on probability.\n",
        "\n",
        "**3. Decision Framework:**\n",
        "The method provides a structured approach to decision-making under uncertainty, helping to minimize errors in conclusions.\n",
        "\n",
        "### Steps in Hypothesis Testing:\n",
        "1. Formulate null and alternative hypotheses\n",
        "2. Choose significance level (α)\n",
        "3. Select appropriate test statistic\n",
        "4. Calculate the test statistic from sample data\n",
        "5. Determine the p-value or critical value\n",
        "6. Make a decision (reject or fail to reject the null hypothesis)\n",
        "7. Draw conclusions in the context of the problem\n",
        "\n",
        "### Applications:\n",
        "Hypothesis testing is widely used in quality control, medical research, social sciences, business analytics, and any field where data-driven decisions are crucial.\n",
        "\n",
        "---\n"
      ],
      "metadata": {
        "id": "YW9_j7l0do21"
      }
    },
    {
      "cell_type": "markdown",
      "source": [
        "## Question 2: What is the null hypothesis, and how does it differ from the alternative hypothesis?\n",
        "\n",
        "## **Answer:**\n",
        "\n",
        "### Null Hypothesis (H₀):\n",
        "The null hypothesis represents the status quo or the assumption of \"no effect\" or \"no difference.\" It is the statement being tested and typically represents what we assume to be true until we have sufficient evidence to conclude otherwise.\n",
        "\n",
        "#### Characteristics of Null Hypothesis:\n",
        "- Always contains an equality (=, ≤, or ≥)\n",
        "- Represents the conservative position\n",
        "- Assumed to be true until proven otherwise\n",
        "- Can be rejected but never \"accepted\" or \"proven\"\n",
        "\n",
        "### Alternative Hypothesis (H₁ or Hₐ):\n",
        "The alternative hypothesis represents what we want to prove or the research hypothesis. It contradicts the null hypothesis and suggests that there is an effect, difference, or relationship.\n",
        "\n",
        "### Key Differences:\n",
        "\n",
        "| Aspect | Null Hypothesis (H₀) | Alternative Hypothesis (H₁) |\n",
        "|--------|---------------------|---------------------------|\n",
        "| **Equality** | Contains equality (=, ≤, ≥) | Contains inequality (≠, <, >) |\n",
        "| **Burden of Proof** | Assumed true initially | Must be proven with evidence |\n",
        "| **Decision** | Can be rejected or not rejected | Can be supported or not supported |\n",
        "| **Direction** | Often non-directional | Can be directional or non-directional |\n",
        "\n",
        "### Examples:\n",
        "- **H₀:** μ = 50 (population mean equals 50)\n",
        "- **H₁:** μ ≠ 50 (population mean does not equal 50) - Two-tailed test\n",
        "- **H₁:** μ > 50 (population mean is greater than 50) - One-tailed test\n",
        "\n",
        "---\n"
      ],
      "metadata": {
        "id": "vN6TSoUyVg1y"
      }
    },
    {
      "cell_type": "markdown",
      "source": [
        "## Question 3: Explain the significance level in hypothesis testing and its role in deciding the outcome of a test.\n",
        "\n",
        "## **Answer:**\n",
        "\n",
        "### Significance Level (α):\n",
        "The significance level is a threshold value that determines how much evidence is required to reject the null hypothesis. It represents the maximum probability of making a Type I error (rejecting a true null hypothesis).\n",
        "\n",
        "### Key Characteristics:\n",
        "\n",
        "1. **Definition:** α is the probability of rejecting H₀ when H₀ is actually true\n",
        "2. **Common Values:** 0.05 (5%), 0.01 (1%), and 0.10 (10%)\n",
        "3. **Pre-determined:** Set before conducting the test, not after seeing the data\n",
        "\n",
        "### Role in Decision Making:\n",
        "\n",
        "#### Method 1 - P-value Approach:\n",
        "- **If p-value ≤ α:** Reject H₀ (statistically significant)\n",
        "- **If p-value > α:** Fail to reject H₀ (not statistically significant)\n",
        "\n",
        "#### Method 2 - Critical Value Approach:\n",
        "- **If test statistic falls in the critical region:** Reject H₀\n",
        "- **If test statistic falls in the non-critical region:** Fail to reject H₀\n",
        "\n",
        "### Interpretation of Common Significance Levels:\n",
        "\n",
        "- **α = 0.05:** We accept a 5% chance of incorrectly rejecting a true null hypothesis\n",
        "- **α = 0.01:** More stringent, only 1% chance of Type I error\n",
        "- **α = 0.10:** More liberal, 10% chance of Type I error\n",
        "\n",
        "### Relationship with Confidence:\n",
        "- Significance level = α\n",
        "- Confidence level = (1 - α) × 100%\n",
        "- For α = 0.05, confidence level = 95%\n",
        "\n",
        "### Practical Considerations:\n",
        "- Lower α reduces Type I error but increases Type II error\n",
        "- Choice depends on consequences of errors in specific context\n",
        "- Medical research often uses α = 0.01 for safety\n",
        "- Social sciences commonly use α = 0.05\n",
        "\n",
        "---\n",
        "\n"
      ],
      "metadata": {
        "id": "WLL1WdQ9VrWg"
      }
    },
    {
      "cell_type": "markdown",
      "source": [
        "## Question 4: What are Type I and Type II errors? Give examples of each.\n",
        "\n",
        "## **Answer:**\n",
        "\n",
        "Type I and Type II errors are the two possible mistakes that can occur in hypothesis testing when making decisions about the null hypothesis.\n",
        "\n",
        "### Type I Error (α):\n",
        "- **Definition:** Rejecting the null hypothesis when it is actually true\n",
        "- **Also called:** False positive, α error\n",
        "- **Probability:** Equal to the significance level (α)\n",
        "- **Consequence:** Concluding there is an effect when there isn't one\n",
        "\n",
        "### Type II Error (β):\n",
        "- **Definition:** Failing to reject the null hypothesis when it is actually false\n",
        "- **Also called:** False negative, β error\n",
        "- **Probability:** Denoted by β (beta)\n",
        "- **Consequence:** Missing a real effect that exists\n",
        "\n",
        "### Error Types Summary Table:\n",
        "\n",
        "| Reality \\ Decision | Reject H₀ | Fail to Reject H₀ |\n",
        "|-------------------|-----------|------------------|\n",
        "| **H₀ is True** | Type I Error (α) | Correct Decision |\n",
        "| **H₀ is False** | Correct Decision | Type II Error (β) |\n",
        "\n",
        "### Examples:\n",
        "\n",
        "#### Example 1: Medical Testing\n",
        "- **H₀:** Patient does not have disease\n",
        "- **H₁:** Patient has disease\n",
        "\n",
        "**Type I Error:** Test indicates disease when patient is healthy\n",
        "- **Consequence:** Unnecessary treatment, anxiety, cost\n",
        "- **Real-world impact:** Healthy person undergoes unnecessary surgery\n",
        "\n",
        "**Type II Error:** Test indicates no disease when patient is sick\n",
        "- **Consequence:** Disease goes untreated\n",
        "- **Real-world impact:** Sick person doesn't receive needed treatment\n",
        "\n",
        "#### Example 2: Quality Control\n",
        "- **H₀:** Product batch meets quality standards\n",
        "- **H₁:** Product batch does not meet quality standards\n",
        "\n",
        "**Type I Error:** Rejecting good batch as defective\n",
        "- **Consequence:** Waste of good products, unnecessary costs\n",
        "- **Real-world impact:** Discarding perfectly good products\n",
        "\n",
        "**Type II Error:** Accepting defective batch as good\n",
        "- **Consequence:** Defective products reach customers\n",
        "- **Real-world impact:** Customer complaints, safety issues, recalls\n",
        "\n",
        "#### Example 3: Criminal Justice\n",
        "- **H₀:** Defendant is innocent\n",
        "- **H₁:** Defendant is guilty\n",
        "\n",
        "**Type I Error:** Convicting an innocent person\n",
        "- **Consequence:** Injustice, wrongful punishment\n",
        "- **Real-world impact:** Innocent person goes to prison\n",
        "\n",
        "**Type II Error:** Acquitting a guilty person\n",
        "- **Consequence:** Criminal remains free\n",
        "- **Real-world impact:** Guilty person escapes justice\n",
        "\n",
        "### Power of a Test:\n",
        "- **Power = 1 - β**\n",
        "- Power is the probability of correctly rejecting a false null hypothesis\n",
        "- Higher power means lower chance of Type II error\n",
        "\n",
        "---\n",
        "\n"
      ],
      "metadata": {
        "id": "tdT8KMyRWCjX"
      }
    },
    {
      "cell_type": "markdown",
      "source": [
        "## Question 5: What is the difference between a Z-test and a T-test? Explain when to use each.\n",
        "\n",
        "**Answer:**\n",
        "\n",
        "Z-tests and T-tests are both statistical hypothesis tests used to compare sample means, but they are used under different conditions and assumptions.\n",
        "\n",
        "### Z-Test:\n",
        "\n",
        "**Definition:** A hypothesis test that uses the standard normal distribution (Z-distribution) to determine if sample means are significantly different from population means or other sample means.\n",
        "\n",
        "#### Key Characteristics:\n",
        "- Uses standard normal distribution (mean = 0, standard deviation = 1)\n",
        "- Test statistic follows Z ~ N(0,1)\n",
        "- More powerful when assumptions are met\n",
        "\n",
        "#### When to Use Z-Test:\n",
        "1. **Large sample size** (n ≥ 30, preferably n ≥ 100)\n",
        "2. **Population standard deviation (σ) is known**\n",
        "3. **Population is normally distributed** OR sample size is large enough for CLT\n",
        "4. **Samples are independent**\n",
        "\n",
        "### T-Test:\n",
        "\n",
        "**Definition:** A hypothesis test that uses the t-distribution to test hypotheses about means when the population standard deviation is unknown.\n",
        "\n",
        "#### Key Characteristics:\n",
        "- Uses t-distribution with (n-1) degrees of freedom\n",
        "- Test statistic follows t-distribution\n",
        "- More conservative than Z-test (wider critical regions)\n",
        "\n",
        "#### When to Use T-Test:\n",
        "1. **Small sample size** (n < 30)\n",
        "2. **Population standard deviation (σ) is unknown**\n",
        "3. **Population is approximately normally distributed**\n",
        "4. **Sample standard deviation (s) is used to estimate σ**\n",
        "\n",
        "### Detailed Comparison:\n",
        "\n",
        "| Aspect | Z-Test | T-Test |\n",
        "|--------|--------|--------|\n",
        "| **Sample Size** | Large (n ≥ 30) | Any size, especially small (n < 30) |\n",
        "| **Population SD** | Known (σ) | Unknown (use sample SD) |\n",
        "| **Distribution** | Standard Normal (Z) | t-distribution with df = n-1 |\n",
        "| **Critical Values** | From Z-table | From t-table |\n",
        "| **Assumptions** | Normal population OR large n | Normal population |\n",
        "| **Precision** | More precise with large n | Accounts for uncertainty in σ |\n",
        "\n",
        "### Types of T-Tests:\n",
        "\n",
        "1. **One-sample t-test:** Compare sample mean to population mean\n",
        "2. **Two-sample t-test:** Compare means of two independent groups\n",
        "3. **Paired t-test:** Compare means of two related groups\n",
        "\n",
        "### Formula Differences:\n",
        "\n",
        "#### Z-Test Formula:\n",
        "```\n",
        "Z = (x̄ - μ) / (σ/√n)\n",
        "```\n",
        "\n",
        "#### T-Test Formula:\n",
        "```\n",
        "t = (x̄ - μ) / (s/√n)\n",
        "```\n",
        "\n",
        "**Where:**\n",
        "- x̄ = sample mean\n",
        "- μ = population mean\n",
        "- σ = population standard deviation\n",
        "- s = sample standard deviation\n",
        "- n = sample size\n",
        "\n",
        "### Decision Guidelines:\n",
        "\n",
        "#### Use Z-Test when:\n",
        "- Testing a single mean with known population variance\n",
        "- Comparing two means with known population variances\n",
        "- Sample size is very large (n > 100)\n",
        "- Working with proportions (large samples)\n",
        "\n",
        "#### Use T-Test when:\n",
        "- Population standard deviation is unknown\n",
        "- Sample size is small to moderate\n",
        "- Comparing means in experimental studies\n",
        "- Working with paired or matched data\n",
        "\n",
        "### As Sample Size Increases:\n",
        "- t-distribution approaches standard normal distribution\n",
        "- For large samples (n > 120), Z and t give very similar results\n",
        "- Many statisticians use t-test as default since it's more conservative\n",
        "\n",
        "### Practical Example:\n",
        "If testing whether a new teaching method improves test scores:\n",
        "- **Use Z-test:** If you have historical data showing population SD = 15, and large sample (n = 200)\n",
        "- **Use T-test:** If you only have sample data (n = 25) without knowing population SD\n",
        "---\n"
      ],
      "metadata": {
        "id": "wokbDUfOWIWQ"
      }
    },
    {
      "cell_type": "markdown",
      "source": [
        "# Q6. Write a Python program to generate a binomial distribution with n=10 and p=0.5, then plot its histogram."
      ],
      "metadata": {
        "id": "JD4ENmFjWdyP"
      }
    },
    {
      "cell_type": "code",
      "source": [
        "import numpy as np\n",
        "import matplotlib.pyplot as plt\n",
        "\n",
        "# Parameters\n",
        "n = 10\n",
        "p = 0.5\n",
        "size = 1000  # number of trials\n",
        "\n",
        "# Generate binomial distribution\n",
        "data = np.random.binomial(n, p, size)\n",
        "\n",
        "# Plot histogram\n",
        "plt.hist(data, bins=range(n+2), edgecolor='black', alpha=0.7)\n",
        "plt.title(\"Binomial Distribution (n=10, p=0.5)\")\n",
        "plt.xlabel(\"Number of Successes\")\n",
        "plt.ylabel(\"Frequency\")\n",
        "plt.show()"
      ],
      "metadata": {
        "colab": {
          "base_uri": "https://localhost:8080/",
          "height": 472
        },
        "id": "yGo-nH9GWWHj",
        "outputId": "0d20df46-ca95-4250-a8bc-f019732769be"
      },
      "execution_count": 1,
      "outputs": [
        {
          "output_type": "display_data",
          "data": {
            "text/plain": [
              "<Figure size 640x480 with 1 Axes>"
            ],
            "image/png": "[encoded data removed]"
          },
          "metadata": {}
        }
      ]
    },
    {
      "cell_type": "markdown",
      "source": [
        "---\n"
      ],
      "metadata": {
        "id": "aMxaVsIFb4z9"
      }
    },
    {
      "cell_type": "markdown",
      "source": [
        "## Q7: Implement hypothesis testing using Z-statistics for a sample dataset in\n",
        "## Python. Show the Python code and interpret the results.\n",
        "## sample_data = [49.1, 50.2, 51.0, 48.7, 50.5, 49.8, 50.3, 50.7, 50.2, 49.6,\n",
        "## 50.1, 49.9, 50.8, 50.4, 48.9, 50.6, 50.0, 49.7, 50.2, 49.5,\n",
        "## 50.1, 50.3, 50.4, 50.5, 50.0, 50.7, 49.3, 49.8, 50.2, 50.9,\n",
        "## 50.3, 50.4, 50.0, 49.7, 50.5, 49.9]\n"
      ],
      "metadata": {
        "id": "CBQ9sFdkZ52Q"
      }
    },
    {
      "cell_type": "markdown",
      "source": [
        "---"
      ],
      "metadata": {
        "id": "tNi2fRXEb6ch"
      }
    },
    {
      "cell_type": "code",
      "source": [
        "import numpy as np\n",
        "from scipy import stats\n",
        "\n",
        "sample_data = [49.1, 50.2, 51.0, 48.7, 50.5, 49.8, 50.3, 50.7, 50.2, 49.6,\n",
        "               50.1, 49.9, 50.8, 50.4, 48.9, 50.6, 50.0, 49.7, 50.2, 49.5,\n",
        "               50.1, 50.3, 50.4, 50.5, 50.0, 50.7, 49.3, 49.8, 50.2, 50.9,\n",
        "               50.3, 50.4, 50.0, 49.7, 50.5, 49.9]\n",
        "\n",
        "# Convert to numpy array\n",
        "data = np.array(sample_data)\n",
        "\n",
        "# Parameters\n",
        "mu_0 = 50  # hypothesized mean\n",
        "mean = np.mean(data)\n",
        "std = np.std(data, ddof=1)  # sample standard deviation\n",
        "n = len(data)\n",
        "\n",
        "# Z-statistic\n",
        "z_stat = (mean - mu_0) / (std / np.sqrt(n))\n",
        "\n",
        "# p-value (two-tailed test)\n",
        "p_value = 2 * (1 - stats.norm.cdf(abs(z_stat)))\n",
        "\n",
        "print(\"Sample mean:\", mean)\n",
        "print(\"Z-statistic:\", z_stat)\n",
        "print(\"p-value:\", p_value)"
      ],
      "metadata": {
        "colab": {
          "base_uri": "https://localhost:8080/"
        },
        "id": "IEafz1PcZ2Ln",
        "outputId": "7449e2db-f2df-4ba7-831b-41f2ce0d06d2"
      },
      "execution_count": 2,
      "outputs": [
        {
          "output_type": "stream",
          "name": "stdout",
          "text": [
            "Sample mean: 50.08888888888889\n",
            "Z-statistic: 0.9940271559503017\n",
            "p-value: 0.3202096468890012\n"
          ]
        }
      ]
    },
    {
      "cell_type": "markdown",
      "source": [
        "##Interpretation:\n",
        "\n",
        "* If p_value < 0.05, reject H₀ → sample mean ≠ 50.\n",
        "\n",
        "* If p_value ≥ 0.05, fail to reject H₀ → sample mean ≈ 50."
      ],
      "metadata": {
        "id": "52VaaN5napw0"
      }
    },
    {
      "cell_type": "markdown",
      "source": [
        "---"
      ],
      "metadata": {
        "id": "siHc1kIJb_WB"
      }
    },
    {
      "cell_type": "markdown",
      "source": [
        "## Question 8: Write a Python script to simulate data from a normal distribution and\n",
        "## calculate the 95% confidence interval for its mean. Plot the data using Matplotlib.\n"
      ],
      "metadata": {
        "id": "y5FkfaLybB1X"
      }
    },
    {
      "cell_type": "code",
      "source": [
        "import numpy as np\n",
        "import matplotlib.pyplot as plt\n",
        "from scipy import stats\n",
        "\n",
        "# Simulate normal distribution\n",
        "data = np.random.normal(loc=100, scale=15, size=1000)\n",
        "\n",
        "# Mean and standard error\n",
        "mean = np.mean(data)\n",
        "sem = stats.sem(data)\n",
        "\n",
        "# 95% confidence interval\n",
        "ci = stats.norm.interval(0.95, loc=mean, scale=sem)\n",
        "\n",
        "print(\"Sample mean:\", mean)\n",
        "print(\"95% Confidence Interval:\", ci)\n",
        "\n",
        "# Plot\n",
        "plt.hist(data, bins=30, edgecolor='black', alpha=0.7)\n",
        "plt.title(\"Normal Distribution Simulation\")\n",
        "plt.xlabel(\"Value\")\n",
        "plt.ylabel(\"Frequency\")\n",
        "plt.axvline(ci[0], color='red', linestyle='dashed', linewidth=2, label=\"95% CI lower\")\n",
        "plt.axvline(ci[1], color='red', linestyle='dashed', linewidth=2, label=\"95% CI upper\")\n",
        "plt.legend()\n",
        "plt.show()\n"
      ],
      "metadata": {
        "colab": {
          "base_uri": "https://localhost:8080/",
          "height": 507
        },
        "id": "NkCK9hD-aeeY",
        "outputId": "ada1ce5c-b717-4a75-d5d1-b93b357c7cfc"
      },
      "execution_count": 3,
      "outputs": [
        {
          "output_type": "stream",
          "name": "stdout",
          "text": [
            "Sample mean: 100.0204169402236\n",
            "95% Confidence Interval: (np.float64(99.11517110295365), np.float64(100.92566277749354))\n"
          ]
        },
        {
          "output_type": "display_data",
          "data": {
            "text/plain": [
              "<Figure size 640x480 with 1 Axes>"
            ],
            "image/png": "[encoded data removed]"
          },
          "metadata": {}
        }
      ]
    },
    {
      "cell_type": "markdown",
      "source": [
        "---"
      ],
      "metadata": {
        "id": "tIAoQ_C1cA0o"
      }
    },
    {
      "cell_type": "markdown",
      "source": [
        "## Question 9: Write a Python function to calculate the Z-scores from a dataset and\n",
        "## visualize the standardized data using a histogram. Explain what the Z-scores represent\n",
        "\n",
        "## in terms of standard deviations from the mean.\n"
      ],
      "metadata": {
        "id": "yEhhXYUfbUBS"
      }
    },
    {
      "cell_type": "code",
      "source": [
        "import numpy as np\n",
        "import matplotlib.pyplot as plt\n",
        "from scipy.stats import zscore\n",
        "\n",
        "# Example dataset\n",
        "data = np.random.normal(50, 10, 1000)\n",
        "\n",
        "# Calculate Z-scores\n",
        "z_scores = zscore(data)\n",
        "\n",
        "# Plot histogram of standardized data\n",
        "plt.hist(z_scores, bins=30, edgecolor='black', alpha=0.7)\n",
        "plt.title(\"Z-scores Histogram\")\n",
        "plt.xlabel(\"Z-score\")\n",
        "plt.ylabel(\"Frequency\")\n",
        "plt.show()\n",
        "\n",
        "print(\"Mean of Z-scores:\", np.mean(z_scores))\n",
        "print(\"Std of Z-scores:\", np.std(z_scores))"
      ],
      "metadata": {
        "colab": {
          "base_uri": "https://localhost:8080/",
          "height": 507
        },
        "id": "dutIVM3QbKfH",
        "outputId": "d107c3ef-5df6-4618-86d7-8d76da50923d"
      },
      "execution_count": 4,
      "outputs": [
        {
          "output_type": "display_data",
          "data": {
            "text/plain": [
              "<Figure size 640x480 with 1 Axes>"
            ],
            "image/png": "[encoded data removed]"
          },
          "metadata": {}
        },
        {
          "output_type": "stream",
          "name": "stdout",
          "text": [
            "Mean of Z-scores: -4.192202140984591e-16\n",
            "Std of Z-scores: 1.0\n"
          ]
        }
      ]
    },
    {
      "cell_type": "markdown",
      "source": [
        "## **Explanation:**\n",
        "\n",
        "Z-score = (value - mean) / standard deviation\n",
        "\n",
        "It tells how many standard deviations a value is from the mean:\n",
        "\n",
        "Z=0 → at mean\n",
        "\n",
        "Z=+1 → 1 std above mean\n",
        "\n",
        "Z=−1 → 1 std below mean"
      ],
      "metadata": {
        "id": "Fx0RuLXDbhE6"
      }
    },
    {
      "cell_type": "markdown",
      "source": [
        "---"
      ],
      "metadata": {
        "id": "3UTrAkiDcCkW"
      }
    }
  ]
}